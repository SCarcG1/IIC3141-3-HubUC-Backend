{
 "cells": [
  {
   "cell_type": "markdown",
   "id": "6c628846",
   "metadata": {},
   "source": [
    "# Libraries"
   ]
  },
  {
   "cell_type": "code",
   "execution_count": null,
   "id": "ff342243",
   "metadata": {},
   "outputs": [],
   "source": [
    "from bs4 import BeautifulSoup\n",
    "from requests import Session"
   ]
  },
  {
   "cell_type": "markdown",
   "id": "1c4fb5ce",
   "metadata": {},
   "source": [
    "# Login"
   ]
  },
  {
   "cell_type": "markdown",
   "id": "6b0216d7",
   "metadata": {},
   "source": [
    "Intentaremos obtener información de \"Mi Portal UC - Retenciones del Estudiante\". Sin embargo, acceder a esta página nos va a redirigir al SSO."
   ]
  },
  {
   "cell_type": "code",
   "execution_count": null,
   "id": "6d7f9e74",
   "metadata": {},
   "outputs": [],
   "source": [
    "session = Session()\n",
    "url_we_want_to_scrape = 'https://portal.uc.cl/c/portal/render_portlet?p_l_id=1534992&p_p_id=RetencionesAlumno_WAR_LPT034_RetencionesAlumnoportlet&p_p_lifecycle=0&p_t_lifecycle=0&p_p_state=normal&p_p_mode=view&p_p_col_id=column-2&p_p_col_pos=2&p_p_col_count=6&p_p_isolated=1&currentURL=%2Fweb%2Fcomunidad-uc%2Finformacion-academica'\n",
    "initial_response = session.get(url=url_we_want_to_scrape)\n",
    "login_url = initial_response.url\n",
    "\n",
    "print(f'Queremos scrapear {url_we_want_to_scrape},')\n",
    "print(f'pero fuimos redirigidos a {login_url}.')"
   ]
  },
  {
   "cell_type": "markdown",
   "id": "4c9fa9b4",
   "metadata": {},
   "source": [
    "Rellenamos el formulario de inicio de sesión como lo hacemos usualmente, enviando nuestro `username` y `password`."
   ]
  },
  {
   "cell_type": "code",
   "execution_count": null,
   "id": "2a81f138",
   "metadata": {},
   "outputs": [],
   "source": [
    "username = input('Username: ')\n",
    "password = input('Password: ')"
   ]
  },
  {
   "cell_type": "markdown",
   "id": "eeb577c6",
   "metadata": {},
   "source": [
    "Pero también tenemos que incluir los campos *hidden*, así que le hacemos `GET` al formulario y extraemos esos campos. Deberían aparecer entre ellos `execution`, cuyo valor es un ID, y `_eventId`, cuyo valor debería ser \"submit\"."
   ]
  },
  {
   "cell_type": "code",
   "execution_count": null,
   "id": "f8360909",
   "metadata": {},
   "outputs": [],
   "source": [
    "response = session.get(url=login_url)\n",
    "hidden_input_fields = BeautifulSoup(response.text, 'html.parser').find_all('input', type='hidden')\n",
    "hidden_input_fields"
   ]
  },
  {
   "cell_type": "markdown",
   "id": "ed5803a4",
   "metadata": {},
   "source": [
    "El form resultante es el siguiente."
   ]
  },
  {
   "cell_type": "code",
   "execution_count": null,
   "id": "d7e85aae",
   "metadata": {},
   "outputs": [],
   "source": [
    "form_data = {input_field.get('name'): input_field.get('value') for input_field in hidden_input_fields}\n",
    "form_data['username'] = username\n",
    "form_data['password'] = password\n",
    "form_data"
   ]
  },
  {
   "cell_type": "markdown",
   "id": "f8f24b87",
   "metadata": {},
   "source": [
    "Ahora, cuando hagamos `POST` de este form, se debería inicial sesión y el SSO debería redirigirnos a la página original, que era \"Mi Portal UC - Retenciones del Estudiante\"."
   ]
  },
  {
   "cell_type": "code",
   "execution_count": null,
   "id": "2bce61ea",
   "metadata": {},
   "outputs": [],
   "source": [
    "response = session.post(url=login_url, data=form_data)\n",
    "print(f'URL final: {response.url}')"
   ]
  },
  {
   "cell_type": "markdown",
   "id": "add92ba0",
   "metadata": {},
   "source": [
    "# Scraping"
   ]
  },
  {
   "cell_type": "markdown",
   "id": "c9e380a3",
   "metadata": {},
   "source": [
    "Finalmente, le hacemos scraping a la página que recibimos."
   ]
  },
  {
   "cell_type": "code",
   "execution_count": null,
   "id": "f7155010",
   "metadata": {},
   "outputs": [],
   "source": [
    "soup = BeautifulSoup(response.text, 'html.parser')\n",
    "rows = soup.find_all('tr')\n",
    "for row in rows:\n",
    "    columns = row.find_all('td')\n",
    "    for column in columns:\n",
    "        if column.string:\n",
    "            print(column.string)\n",
    "    print()"
   ]
  }
 ],
 "metadata": {
  "kernelspec": {
   "display_name": "Python 3",
   "language": "python",
   "name": "python3"
  },
  "language_info": {
   "codemirror_mode": {
    "name": "ipython",
    "version": 3
   },
   "file_extension": ".py",
   "mimetype": "text/x-python",
   "name": "python",
   "nbconvert_exporter": "python",
   "pygments_lexer": "ipython3",
   "version": "3.12.8"
  }
 },
 "nbformat": 4,
 "nbformat_minor": 5
}
